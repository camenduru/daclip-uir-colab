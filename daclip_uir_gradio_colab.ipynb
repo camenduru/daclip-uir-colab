{
  "cells": [
    {
      "cell_type": "markdown",
      "metadata": {
        "id": "view-in-github"
      },
      "source": [
        "[![Open In Colab](https://colab.research.google.com/assets/colab-badge.svg)](https://colab.research.google.com/github/camenduru/daclip-uir-colab/blob/main/daclip_uir_gradio_colab.ipynb)"
      ]
    },
    {
      "cell_type": "code",
      "execution_count": null,
      "metadata": {
        "id": "VjYy0F2gZIPR"
      },
      "outputs": [],
      "source": [
        "%cd /content\n",
        "!git clone -b gradio https://github.com/camenduru/daclip-uir\n",
        "%cd /content/daclip-uir\n",
        "\n",
        "!apt -y install -qq aria2\n",
        "!aria2c --console-log-level=error -c -x 16 -s 16 -k 1M https://huggingface.co/camenduru/daclip-uir/resolve/main/daclip_ViT-B-32.pt -d /content/daclip-uir/universal-image-restoration/config/daclip-sde/pretrained -o daclip_ViT-B-32.pt\n",
        "!aria2c --console-log-level=error -c -x 16 -s 16 -k 1M https://huggingface.co/camenduru/daclip-uir/resolve/main/universal-ir.pth -d /content/daclip-uir/universal-image-restoration/config/daclip-sde/pretrained -o universal-ir.pth\n",
        "\n",
        "!pip install -q einops ema-pytorch ftfy lmdb gradio\n",
        "\n",
        "%cd /content/daclip-uir/universal-image-restoration/config/daclip-sde\n",
        "!python app.py"
      ]
    }
  ],
  "metadata": {
    "accelerator": "GPU",
    "colab": {
      "gpuType": "T4",
      "provenance": []
    },
    "kernelspec": {
      "display_name": "Python 3",
      "name": "python3"
    },
    "language_info": {
      "name": "python"
    }
  },
  "nbformat": 4,
  "nbformat_minor": 0
}
